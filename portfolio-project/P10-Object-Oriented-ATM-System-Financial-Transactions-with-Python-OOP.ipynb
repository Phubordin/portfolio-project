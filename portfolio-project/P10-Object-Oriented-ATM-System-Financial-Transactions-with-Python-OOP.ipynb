{
  "nbformat": 4,
  "nbformat_minor": 0,
  "metadata": {
    "colab": {
      "provenance": [],
      "toc_visible": true,
      "include_colab_link": true
    },
    "kernelspec": {
      "name": "python3",
      "display_name": "Python 3"
    },
    "language_info": {
      "name": "python"
    }
  },
  "cells": [
    {
      "cell_type": "markdown",
      "metadata": {
        "id": "view-in-github",
        "colab_type": "text"
      },
      "source": [
        "<a href=\"https://colab.research.google.com/github/Phubordin/portfolio-project/blob/main/portfolio-project/P10-Object-Oriented-ATM-System-Financial-Transactions-with-Python-OOP.ipynb\" target=\"_parent\"><img src=\"https://colab.research.google.com/assets/colab-badge.svg\" alt=\"Open In Colab\"/></a>"
      ]
    },
    {
      "cell_type": "markdown",
      "source": [
        "# คำแนะนำ :\n",
        "\n",
        "[My Portfolio Website (Project 10)](https://phubordin.github.io/My-Portfolio-Website/project_atm_oop_py_dsb10.html)\n",
        "\n",
        "---\n",
        "\n",
        "คุณสามารถลอง ฝาก ถอน จ่ายบิล (`ลองรัน Code เอง`) ในตู้ ATM  ของผมที่สร้างมาจากโค้ด Python ได้ โดยการ\n",
        "\n",
        "`File → Save a copy in Drive` เมื่อ Copy สำเร็จสามารถ\n",
        "\n",
        "กด `Run All` ได้ที่มุมบนซ้ายได้เลย (`ต้องรันใน notebook ที่ copy ไปนะครับไม่งั้นจะรันไมไ่ด้`)\n",
        "\n",
        "คุณสามารถเปลี่ยนประเภท Transactions ได้ที่หัวข้อ [Simulate ATM Transactions](https://colab.research.google.com/drive/1M_BwQw89HmOfFR-MxLDf8VJeot5LtVeX?authuser=1#scrollTo=Simulate-ATM-Transactions) เช่น\n",
        "\n",
        "- เดิม `my_atm.withdraw(10, \"Medical Expenses\")` : ถอนเงิน 10 ล้าน\n",
        "- ใหม่ `my_atm.withdraw(5, \"Medical Expenses\")` : ถอนเงิน 5 ล้าน\n",
        "\n",
        "จากนั้นรันโค้ดที่หัวข้อ [Transform into a Table](https://colab.research.google.com/drive/1M_BwQw89HmOfFR-MxLDf8VJeot5LtVeX?authuser=1#scrollTo=Transform_into_a_Table) คุณจะเห็นว่า\n",
        "\n",
        "จะมี Transactions ที่เพิ่มขึ้นจากของเดิมและจุดที่เปลี่ยนไปคือ\n",
        "\n",
        "ระบบจะถอนเงิน 5 ล้านไปใช้จ่ายกับ Medical จากเดิม 10 ล้าน\n",
        "\n",
        "ลองเล่นดูนะครับ ⭐️\n",
        "\n",
        "# 🧭 Table of Contents\n",
        "\n",
        "- **Object-Oriented ATM System with Python**\n",
        "\n",
        "- **Simulate ATM Transactions**\n",
        "\n",
        "- **Transform into a Table**\n",
        "\n",
        "- **Verify ATM Balance**\n",
        "\n",
        "- **Clear All Variables**\n"
      ],
      "metadata": {
        "id": "FcPz4-rwQ925"
      }
    },
    {
      "cell_type": "markdown",
      "source": [
        "# Object-Oriented ATM System with Python\n",
        "\n",
        "กระบวนการออกแบบให้คอมพิวเตอร์เรียนรู้ว่า สิ่งนี้คือตู้ ATM\n",
        "\n",
        "โดยให้มี Attribute ชื่อบัญชี, ชื่อธนาคาร และเงินฝากในบัญชีพร้อมบันทึกประวัติธุรกรรม\n",
        "\n",
        "และมีการกระทำ Method ฝากเงิน, ถอนเงิน, จ่ายบิล"
      ],
      "metadata": {
        "id": "ClvI7risX0wH"
      }
    },
    {
      "cell_type": "code",
      "execution_count": 105,
      "metadata": {
        "id": "wbeWonMI2S7X"
      },
      "outputs": [],
      "source": [
        "## ผมสร้างตู้ ATM ด้วยแนวคิด OOP โดยจะกำหนด action คือ method ฝาก, ถอน, จ่ายบิล รวมถึงกำหนดเงินเริ่มต้นในบัญชี, ชื่อบัญชี และชื่อธนาคารพร้อมบันทึกธุรกรรม\n",
        "## - มี method (พฤติกรรม) สำหรับ:\n",
        "##   - ถอนเงิน (withdraw)\n",
        "##   - ฝากเงิน (deposit)\n",
        "##   - จ่ายบิล (paybills)\n",
        "##   - บันทึกรายการ (statement)\n",
        "## - เก็บข้อมูลธุรกรรม (transactions) และคำอธิบาย (hint)\n",
        "\n",
        "# กำหนดคลาส Atm (เปรียบเหมือนพิมพ์เขียวสำหรับสร้าง \"ตู้ ATM\" แต่ละเครื่อง)\n",
        "class Atm():\n",
        "  # __init__ เป็น constructor method\n",
        "  # จะทำงานอัตโนมัติเมื่อสร้าง object จาก class Atm\n",
        "  def __init__(self, name, bank, balance, statement):\n",
        "    # self คือการอ้างอิงถึง object ที่ถูกสร้างขึ้น\n",
        "    # กำหนด attributes ให้ object\n",
        "    self.name = name         # ชื่อเจ้าของบัญชี\n",
        "    self.bank = bank         # ชื่อธนาคาร\n",
        "    self.balance = balance   # ยอดเงินในบัญชี\n",
        "    self.statement = statement # dict สำหรับเก็บประวัติธุรกรรม\n",
        "\n",
        "  # __str__ คือ special method\n",
        "  # เมื่อใช้ print(my_atm) จะคืนข้อความในนี้\n",
        "  def __str__(self):\n",
        "    text = \"You should type (my_atm.Attribute | my_atm.Methods(__, __) to view info.\" # ซึ่งบอกว่าควรใช้ method หีือ attribute my_atm เช่น my_atm.withdraw(500, \"Medical Expenses\"), my_atm.balance(เช็คยอดเงินคงเหลือ)\n",
        "    return text # คืนข้อความหากไม่ใช้ my_atm คู่กับ method\n",
        "\n",
        "  # method ถอนเงิน\n",
        "  def withdraw(self, num, hint):\n",
        "    self.balance -= num  # ลดยอดเงินในบัญชีตามจำนวนที่ถอน\n",
        "    self.statement[\"#Hints\"] += [hint]       # เพิ่มคำอธิบายของธุรกรรมในรายการ\n",
        "    self.statement[\"$Cash\"] += [f\"- {num}\"]   # เพิ่มข้อมูลจำนวนเงินที่ถอน\n",
        "    self.statement[\"Transactions\"] += [\"Withdraw\"] # เพิ่มชนิดของธุรกรรม\n",
        "    if self.balance < 0:  # ตรวจสอบว่าเงินติดลบไหม\n",
        "      return \"You don't have enough money\"    # แจ้งว่าเงินไม่พอ\n",
        "    else:\n",
        "      text = f\"\"\"WithDraw: - {num} | * {hint}\"\"\"  # ข้อความสรุปผลลัพธ์ว่า ถอนเงิน\n",
        "      return text # แจ้งข้อความ ถอนเงิน\n",
        "\n",
        "  # method จ่ายบิล\n",
        "  def paybills(self, num, hint):\n",
        "    self.balance -= num  # ลดยอดเงินในบัญชีตามจำนวนที่ถอน\n",
        "    self.statement[\"#Hints\"] += [hint]       # เพิ่มคำอธิบายของธุรกรรมในรายการ\n",
        "    self.statement[\"$Cash\"] += [f\"- {num}\"]   # เพิ่มข้อมูลจำนวนเงินที่ถอน\n",
        "    self.statement[\"Transactions\"] += [\"Pay Bills\"] # เพิ่มชนิดของธุรกรรม\n",
        "    if self.balance < 0:  # ตรวจสอบว่าเงินติดลบไหม\n",
        "      return \"You don't have enough money\"    # แจ้งว่าเงินไม่พอ\n",
        "    else:\n",
        "      text = f\"\"\"Pay Bills: - {num} | * {hint}\"\"\"  # ข้อความสรุปผลลัพธ์ว่า จ่ายบิล\n",
        "      return text # แจ้งข้อความ จ่ายบิล\n",
        "\n",
        "  # method ฝากเงิน\n",
        "  def deposit(self, num, hint):\n",
        "    self.balance += num  # ลดยอดเงินในบัญชีตามจำนวนที่ถอน\n",
        "    self.statement[\"#Hints\"] += [hint]       # เพิ่มคำอธิบายของธุรกรรมในรายการ\n",
        "    self.statement[\"$Cash\"] += [f\"+ {num}\"]   # เพิ่มข้อมูลจำนวนเงินที่ถอน\n",
        "    self.statement[\"Transactions\"] += [\"Pay Bills\"] # เพิ่มชนิดของธุรกรรม\n",
        "    text = f\"\"\"Deposit : + {num} | * {hint}\"\"\" # เพิ่มชนิดของธุรกรรม\n",
        "    return text # แจ้งข้อความ ฝากเงิน\n",
        "\n",
        "# สร้าง object my_atm จาก class Atm\n",
        "# พร้อมกำหนดค่าเริ่มต้น: ชื่อ, ธนาคาร, ยอดเงิน, และ dict สำหรับเก็บธุรกรรม\n",
        "my_atm = Atm(\n",
        "    \"Phu\",               # ชื่อบัญชี\n",
        "    \"Bualuang Bank\",     # ธนาคาร\n",
        "    1000,                # ยอดเงินเริ่มต้น\n",
        "    {                    # dict สำหรับเก็บประวัติธุรกรรม\n",
        "        \"Transactions\": [],\n",
        "        \"$Cash\": [],\n",
        "        \"#Hints\": [],\n",
        "    }\n",
        ")\n"
      ]
    },
    {
      "cell_type": "markdown",
      "source": [
        "# Simulate ATM Transactions"
      ],
      "metadata": {
        "id": "a-GGpm8iX0x5"
      }
    },
    {
      "cell_type": "code",
      "source": [
        "# (ต่อ) เวลามีธุรกรรมใดๆ ให้มาเพื่อภายใน list นี้ เช่น..\n",
        "results = [\n",
        "    my_atm.withdraw(10, \"Medical Expenses\"), # ถอนเงินสด ไปใช้ต่ายค่ายา\n",
        "    my_atm.deposit(100, \"Income per Month\"), # ฝากเงิน จากเงินเดือนที่่ได้รับ\n",
        "    my_atm.paybills(5, \"Netflix Rate\"), # จ่ายบิล ดูหนังรายเดือน\n",
        "    my_atm.paybills(5, \"Telephone Charges\"), # จ่ายบิล ค่าโทรศัพท์\n",
        "    my_atm.paybills(10, \"Food Expenses\") # จ่ายบิล ค่าอาหาร\n",
        "]\n",
        "# แสดงผลลัพธ์โดยใช้ for เพื่อ print ผลลัพธ์แต่ละ method ที่อยู่ใน results\n",
        "for r in results:\n",
        "  print(r)\n"
      ],
      "metadata": {
        "colab": {
          "base_uri": "https://localhost:8080/"
        },
        "id": "br0zLeTwJmKd",
        "outputId": "1e41a0e9-5014-4710-fb96-7046db05fb65"
      },
      "execution_count": 108,
      "outputs": [
        {
          "output_type": "stream",
          "name": "stdout",
          "text": [
            "WithDraw: - 10 | * Medical Expenses\n",
            "Deposit : + 100 | * Income per Month\n",
            "Pay Bills: - 5 | * Netflix Rate\n",
            "Pay Bills: - 5 | * Telephone Charges\n",
            "Pay Bills: - 10 | * Food Expenses\n"
          ]
        }
      ]
    },
    {
      "cell_type": "markdown",
      "source": [
        "# Transform into a Table"
      ],
      "metadata": {
        "id": "6fgCCJGhX2BU"
      }
    },
    {
      "cell_type": "code",
      "source": [
        "import pandas as pd # นำเข้า library ที่ไว้ใช้สำหรับจัดการข้อมูล (ตัวอย่างนี้จะนำ dict แปลงเป็น dataframe)\n",
        "\n",
        "data = my_atm.statement # นำข้อมูล Transactions ทั้งหมดไว้ที่ตัวแปร data (ในรูปแบบ Dict)\n",
        "df = pd.DataFrame(data) # แปลงข้อมูล data เป็น dataframe\n",
        "print(df) # แสดงผลลัพธ์\n"
      ],
      "metadata": {
        "colab": {
          "base_uri": "https://localhost:8080/"
        },
        "id": "iq5iajUB65wf",
        "outputId": "ea3ecc78-f3f7-4283-fcb6-7244314142a1"
      },
      "execution_count": 109,
      "outputs": [
        {
          "output_type": "stream",
          "name": "stdout",
          "text": [
            "  Transactions  $Cash             #Hints\n",
            "0     Withdraw   - 10   Medical Expenses\n",
            "1    Pay Bills  + 100   Income per Month\n",
            "2    Pay Bills    - 5       Netflix Rate\n",
            "3    Pay Bills    - 5  Telephone Charges\n",
            "4    Pay Bills   - 10      Food Expenses\n",
            "5     Withdraw   - 10   Medical Expenses\n",
            "6    Pay Bills  + 100   Income per Month\n",
            "7    Pay Bills    - 5       Netflix Rate\n",
            "8    Pay Bills    - 5  Telephone Charges\n",
            "9    Pay Bills   - 10      Food Expenses\n"
          ]
        }
      ]
    },
    {
      "cell_type": "markdown",
      "source": [
        "# Verify ATM Balance"
      ],
      "metadata": {
        "id": "9a1orLXAX1E8"
      }
    },
    {
      "cell_type": "code",
      "source": [
        "# แสดงยอดเงินคงเหลิือพร้อม ชื่อบัญชี และธนาคาร\n",
        "\n",
        "summary_cash = [\n",
        "    my_atm.name, # ชื่อ บัญชี\n",
        "    my_atm.bank, # ชื่อ ธนาคาร\n",
        "    my_atm.balance # เช็คยอดเงินในบัญชี\n",
        "]\n",
        "\n",
        "# แสดงผลลัพธ์ในแต่ละ Attribute ที่อยู่ใน summary_cash\n",
        "for i in summary_cash:\n",
        "  print(i)\n"
      ],
      "metadata": {
        "colab": {
          "base_uri": "https://localhost:8080/"
        },
        "id": "MsHsFTOISu-c",
        "outputId": "ce109d00-1528-4041-d094-ee5a9e717c5a"
      },
      "execution_count": 102,
      "outputs": [
        {
          "output_type": "stream",
          "name": "stdout",
          "text": [
            "Phu\n",
            "Bualuang Bank\n",
            "1070\n"
          ]
        }
      ]
    },
    {
      "cell_type": "markdown",
      "source": [
        "# Clear All Variables"
      ],
      "metadata": {
        "id": "kttD8lIuX00J"
      }
    },
    {
      "cell_type": "code",
      "source": [
        "# ลบตัวแปรทั้งหมดจาก environment, Runtime > Restart runtime, Cmd/Ctrl + M\n",
        "%reset -f"
      ],
      "metadata": {
        "id": "ADN2ylMVTFqZ"
      },
      "execution_count": 103,
      "outputs": []
    }
  ]
}