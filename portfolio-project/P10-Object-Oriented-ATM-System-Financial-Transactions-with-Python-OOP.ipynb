{
  "nbformat": 4,
  "nbformat_minor": 0,
  "metadata": {
    "colab": {
      "provenance": [],
      "toc_visible": true,
      "authorship_tag": "ABX9TyPvb36eG8U0F/g2q4/So+Y1",
      "include_colab_link": true
    },
    "kernelspec": {
      "name": "python3",
      "display_name": "Python 3"
    },
    "language_info": {
      "name": "python"
    }
  },
  "cells": [
    {
      "cell_type": "markdown",
      "metadata": {
        "id": "view-in-github",
        "colab_type": "text"
      },
      "source": [
        "<a href=\"https://colab.research.google.com/github/Phubordin/portfolio-project/blob/main/portfolio-project/P10-Object-Oriented-ATM-System-Financial-Transactions-with-Python-OOP.ipynb\" target=\"_parent\"><img src=\"https://colab.research.google.com/assets/colab-badge.svg\" alt=\"Open In Colab\"/></a>"
      ]
    },
    {
      "cell_type": "markdown",
      "source": [
        "# คำแนะนำ :\n",
        "\n",
        "My Portfolio Website [Mini Project 11](https://phubordin.github.io/My-Portfolio-Website/project_mini_api_py.html)\n",
        "\n",
        "---\n",
        "\n",
        "คุณสามารถลองดึงข้อมูลด้วย API ของเว็บไซต์ (Air Quality API)[https://open-meteo.com/en/docs/air-quality-api] ด้วยโค้ดด้านล่างได้เลยครับ แต่ก่อนอื่นแนะนำให้กด..\n",
        "\n",
        "`File → Save a copy in Drive` เมื่อ Copy สำเร็จสามารถ\n",
        "\n",
        "กด `Run all` ที่ซ้ายบนได้เลยครับ (`ต้องรันใน notebook ที่ copy ไปนะครับไม่งั้นจะรันไมไ่ด้`)\n",
        "\n",
        "---\n",
        "\n",
        "จากนั้นเมื่อคุณรันเสร็จแล้วคุณจะได้ข้อมูล ฝุ่นในอากาศ (pm10, p,2.5) ไมโครกรัมต่อลูกบาศก์เมตร\n",
        "\n",
        "รายชั่วโมงย้อนหลัง 90 วันของกรุงเทพ ประเทศไทย -> เป็นไฟล์ Excel\n",
        "\n",
        "คุณสามารถดาวน์โหลดที่แถบด้านซ้ายรูป File อยู่อันท้ายสุด\n",
        "\n",
        "เมื่อคลิกเข้าไปคุณจะเห็นชื่อไฟล์ `air_quality.xlsx` สามารถคลิกขวาดาวน์โหลดได้เลย\n",
        "\n",
        "ลองเล่นดูนะครับ ⭐️\n",
        "\n",
        "# 🧭 Table of Contents\n",
        "\n",
        "- **Clear All Variables**\n",
        "- **Import Library**\n",
        "- **Configure Coordinates and Files**\n",
        "- **Retrieve Data for the Past 90 Days**\n"
      ],
      "metadata": {
        "id": "QCEl2aLlK6c0"
      }
    },
    {
      "cell_type": "markdown",
      "source": [
        "# Clear All Variables"
      ],
      "metadata": {
        "id": "Sf0qro79jWsv"
      }
    },
    {
      "cell_type": "code",
      "source": [
        "# ลบตัวแปรทั้งหมดจาก environment, Runtime > Restart runtime, Cmd/Ctrl + M\n",
        "%reset -f"
      ],
      "metadata": {
        "id": "4eQ932VUCoMU"
      },
      "execution_count": null,
      "outputs": []
    },
    {
      "cell_type": "markdown",
      "source": [
        "# Import Library"
      ],
      "metadata": {
        "id": "9Cre8CNFjGCv"
      }
    },
    {
      "cell_type": "code",
      "source": [
        "from requests import get       # ใช้เรียก API จากเว็บไซต์ (HTTP GET request)\n",
        "import pandas as pd            # จัดการ DataFrame, แปลง JSON เป็นตาราง\n"
      ],
      "metadata": {
        "id": "yzuAkE0KjJP3"
      },
      "execution_count": null,
      "outputs": []
    },
    {
      "cell_type": "markdown",
      "source": [
        "# Configure Coordinates and Files"
      ],
      "metadata": {
        "id": "MkNKlrCyioYf"
      }
    },
    {
      "cell_type": "code",
      "source": [
        "# --------- ตั้งค่าพิกัดและไฟล์ ---------\n",
        "lat, lon = 13.7563, 100.5018             # พิกัดกรุงเทพฯ\n",
        "file_name = \"air_quality.xlsx\"           # ชื่อไฟล์ Excel สำหรับเก็บข้อมูลสะสม\n"
      ],
      "metadata": {
        "id": "-V7JR_MCjDgI"
      },
      "execution_count": null,
      "outputs": []
    },
    {
      "cell_type": "markdown",
      "source": [
        "# Retrieve Data for the Past 90 Days"
      ],
      "metadata": {
        "id": "JQKGeE3wiotF"
      }
    },
    {
      "cell_type": "code",
      "source": [
        "# --------- ดึงย้อนหลัง 90 วัน ---------\n",
        "# สร้าง URL API พร้อมพารามิเตอร์\n",
        "url = (\n",
        "    \"https://air-quality-api.open-meteo.com/v1/air-quality\"\n",
        "    f\"?latitude={lat}&longitude={lon}\"\n",
        "    \"&hourly=pm10,pm2_5\"\n",
        "    \"&past_days=90\"\n",
        "    \"&timezone=Asia/Bangkok\"          # ให้ API ส่งเวลาเป็น local Bangkok\n",
        ")\n",
        "\n",
        "# เรียก API และแปลง JSON เป็น DataFrame\n",
        "api = get(url)\n",
        "api_json = api.json()\n",
        "df = pd.DataFrame(api_json[\"hourly\"])\n",
        "\n",
        "# แปลง df[\"time\"] เป็น tz-aware Bangkok (เพื่อเปรียบเทียบเวลาได้ถูกต้อง)\n",
        "df[\"time\"] = pd.to_datetime(df[\"time\"]).dt.tz_localize(\"Asia/Bangkok\")\n",
        "\n",
        "# เวลาปัจจุบันปัดชั่วโมงล่าสุด → tz-aware Bangkok\n",
        "cut_time = pd.Timestamp.now(tz=\"Asia/Bangkok\").floor(\"h\") - pd.Timedelta(hours=1)\n",
        "\n",
        "# ตัด forecast ออก → เหลือเฉพาะเวลาที่ยืนยันแล้ว\n",
        "df = df[df[\"time\"] <= cut_time]\n",
        "\n",
        "# ลบ timezone ก่อน export Excel เพราะ Excel ไม่รองรับ tz-aware\n",
        "df[\"time\"] = df[\"time\"].dt.tz_localize(None)\n",
        "\n",
        "# เขียนข้อมูลลง Excel\n",
        "df.to_excel(file_name, index=False)\n",
        "print(f\"สร้างไฟล์ใหม่พร้อมข้อมูลย้อนหลัง 90 วันจนถึง {cut_time} ✅ (เวลาย้อนหลัง 1 ชม.เทียบกับเวลา ณ ปัจจุบัน เพื่อการยืนยันข้อมูลที่ถูกต้อง)\")\n",
        "\n",
        "# อ่าน/แสดง ข้อมูลใน Excel\n",
        "df = pd.read_excel(file_name)\n",
        "print(df)\n"
      ],
      "metadata": {
        "colab": {
          "base_uri": "https://localhost:8080/"
        },
        "id": "T07U_SykjEQ4",
        "outputId": "956f133f-3b26-4743-bcac-3818f877081f"
      },
      "execution_count": null,
      "outputs": [
        {
          "output_type": "stream",
          "name": "stdout",
          "text": [
            "สร้างไฟล์ใหม่พร้อมข้อมูลย้อนหลัง 90 วันจนถึง 2025-09-10 02:00:00+07:00 ✅ (เวลาย้อนหลัง 1 ชม.เทียบกับเวลา ณ ปัจจุบัน เพื่อการยืนยันข้อมูลที่ถูกต้อง)\n",
            "                    time  pm10  pm2_5\n",
            "0    2025-06-12 00:00:00  19.7   16.5\n",
            "1    2025-06-12 01:00:00  18.0   15.3\n",
            "2    2025-06-12 02:00:00  15.4   13.5\n",
            "3    2025-06-12 03:00:00  12.9   11.5\n",
            "4    2025-06-12 04:00:00  10.3    9.5\n",
            "...                  ...   ...    ...\n",
            "2158 2025-09-09 22:00:00   5.2    5.1\n",
            "2159 2025-09-09 23:00:00   5.2    5.1\n",
            "2160 2025-09-10 00:00:00   4.4    4.2\n",
            "2161 2025-09-10 01:00:00   3.7    3.5\n",
            "2162 2025-09-10 02:00:00   3.5    3.2\n",
            "\n",
            "[2163 rows x 3 columns]\n"
          ]
        }
      ]
    }
  ]
}