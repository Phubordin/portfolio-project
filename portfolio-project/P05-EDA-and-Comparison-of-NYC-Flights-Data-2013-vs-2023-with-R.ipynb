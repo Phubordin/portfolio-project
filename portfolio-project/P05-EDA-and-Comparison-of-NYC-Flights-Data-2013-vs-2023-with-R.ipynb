{
  "nbformat": 4,
  "nbformat_minor": 0,
  "metadata": {
    "colab": {
      "provenance": [],
      "include_colab_link": true
    },
    "kernelspec": {
      "name": "ir",
      "display_name": "R"
    },
    "language_info": {
      "name": "R"
    }
  },
  "cells": [
    {
      "cell_type": "markdown",
      "metadata": {
        "id": "view-in-github",
        "colab_type": "text"
      },
      "source": [
        "<a href=\"https://colab.research.google.com/github/Phubordin/portfolio-project/blob/main/portfolio-project/P05-EDA-and-Comparison-of-NYC-Flights-Data-2013-vs-2023-with-R.ipynb\" target=\"_parent\"><img src=\"https://colab.research.google.com/assets/colab-badge.svg\" alt=\"Open In Colab\"/></a>"
      ]
    },
    {
      "cell_type": "markdown",
      "source": [
        "# ติดตั้ง Package nycflights"
      ],
      "metadata": {
        "id": "S8j_aWvx5hYL"
      }
    },
    {
      "cell_type": "code",
      "source": [
        "install.packages(c(\"nycflights13\", \"nycflights23\"))"
      ],
      "metadata": {
        "colab": {
          "base_uri": "https://localhost:8080/"
        },
        "id": "C0prskiY5ixc",
        "outputId": "3270b421-d003-455a-d4ee-323682c25f98"
      },
      "execution_count": null,
      "outputs": [
        {
          "output_type": "stream",
          "name": "stderr",
          "text": [
            "Installing packages into ‘/usr/local/lib/R/site-library’\n",
            "(as ‘lib’ is unspecified)\n",
            "\n"
          ]
        }
      ]
    },
    {
      "cell_type": "markdown",
      "source": [
        "# Load Library"
      ],
      "metadata": {
        "id": "mfqD7na05RD1"
      }
    },
    {
      "cell_type": "code",
      "source": [
        "library(nycflights23)\n",
        "\n",
        "head(flights)"
      ],
      "metadata": {
        "id": "TrcEeCax6V4K"
      },
      "execution_count": null,
      "outputs": []
    },
    {
      "cell_type": "code",
      "source": [
        "library(nycflights13)\n",
        "head(flights)"
      ],
      "metadata": {
        "id": "_8qvHyJt6Vvu"
      },
      "execution_count": null,
      "outputs": []
    },
    {
      "cell_type": "code",
      "source": [
        "# Intro\n",
        "library(tidyverse)\n",
        "library(nycflights13)\n",
        "library(nycflights23)\n",
        "library(glue)\n",
        "library(rnaturalearth)\n",
        "library(sf)\n",
        "library(ggplot2)\n",
        "library(purrr)\n",
        "\n",
        "?flights # file มีเเถว 336,766 ถ้าเราโหลด nycflights23 เวลารัน\n",
        "# Flights จะเป็น data 2023 เเล้ว เหมือนมัน update\n",
        "\n",
        "write.csv(flights, file = \"flights.csv\") # เขียนไฟล์เพื่อดูขนาดไฟล์\n",
        "df <- read_csv(\"flights.csv\") # อ่านไฟล์ที่ต้องใชเ _csv เพระาเวลารันมันไม่เป็น tibble ให้\n",
        "\n",
        "## homework 16.25 - 22.30\n",
        "## manipulate data (nycflights13)\n",
        "\n",
        "## นี่คือ table ทั้งหมดที่ file Default (nycflights13)\n",
        "flights # primary key -> 1 lines = 1 row = 1 เที่ยวบน = 1 การเดินทาง\n",
        "airlines # primary key -> name_airlines\n",
        "airports # primary key -> name_air\n",
        "planes # primary key -> number_planes\n",
        "weather # primary key ->origin_location_specific_time"
      ],
      "metadata": {
        "id": "Cjovwxln5QyB"
      },
      "execution_count": null,
      "outputs": []
    },
    {
      "cell_type": "markdown",
      "source": [
        "# 1"
      ],
      "metadata": {
        "id": "xlUa9pcW_U5k"
      }
    },
    {
      "cell_type": "code",
      "source": [
        "## Let's start HOMEWORK--------------------------------------------------------------\n",
        "\n",
        "### 1. ต้องการอยากทราบว่า คนบินไปรัฐไหนบ้างแตกต่างกันอย่างไร---------------\n",
        "\n",
        "# 1. โหลดข้อมูลเมืองจาก rnaturalearth\n",
        "cities <- ne_download(scale = \"large\", type = \"populated_places\", returnclass = \"sf\")\n",
        "\n",
        "# 2. แปลงตาราง airports ให้เป็น sf object\n",
        "airport_coords <- airports %>%\n",
        "  select(faa, name, lat, lon) %>%\n",
        "  st_as_sf(coords = c(\"lon\", \"lat\"), crs = 4326, remove = FALSE)\n",
        "\n",
        "# 3. เชื่อมสนามบินกับเมืองใกล้เคียงที่สุด\n",
        "matched_cities <- st_join(airport_coords, cities, join = st_nearest_feature)\n",
        "\n",
        "colnames(matched_cities) <- tolower(colnames(matched_cities))\n",
        "colnames(matched_cities)[2] <- \"name_airport\"\n",
        "\n",
        "\n",
        "# 4. เลือกคอลัมน์ที่ต้องการเพื่อจะนำไป Join\n",
        "state <- matched_cities %>%\n",
        "  select(faa, adm1name, name_airport)\n",
        "\n",
        "## 5. หาจำนวนเที่ยวบินที่ไปถึงที่สนามบินปลายทาง\n",
        "n_flight_des <- flights %>%\n",
        "  filter(if_all(everything(), ~ !is.na(.))) %>%\n",
        "  select(dest) %>%\n",
        "  group_by(dest) %>%\n",
        "  summarise(n_flights = n()) %>%\n",
        "  arrange(- n_flights)\n",
        "\n",
        "## ไม่ต้องไปดูตรงอื่นเริ่มตรงนี้ !!!!\n",
        "## 6. Join table เพื่อดูว่าสนามบินที่ว่าตั้งอยู่เมืองไหน และจัดการค่า NA\n",
        "prep_n_flights <- n_flight_des %>%\n",
        "  left_join(state, by = c(\"dest\" = \"faa\")) %>%\n",
        "  select(name_airport, dest, adm1name, n_flights) %>%\n",
        "  # filter(if_any(everything(), is.na)) %>% # ไว้ test ว่าคอลัมน์ไหนมี NA\n",
        "  mutate(\n",
        "    adm1name = case_when(\n",
        "      is.na(adm1name) & dest == \"STT\" ~ \"U.S. Virgin Islands\",\n",
        "      is.na(adm1name) & dest == \"BQN\" ~ \"Puerto Rico\",\n",
        "      is.na(adm1name) & dest == \"SJU\" ~ \"Puerto Rico\",\n",
        "      is.na(adm1name) & dest == \"PSE\" ~ \"Puerto Rico\",\n",
        "      TRUE ~ adm1name\n",
        "    ),\n",
        "    name_airport = case_when(\n",
        "      is.na(name_airport) & dest == \"STT\" ~ \"Cyril E. King Airport\",\n",
        "      is.na(name_airport) & dest == \"BQN\" ~ \"Rafael Hernandez Airport\",\n",
        "      is.na(name_airport) & dest == \"SJU\" ~ \"Luis Munoz Marin Interenational Airpot\",\n",
        "      is.na(name_airport) & dest == \"PSE\" ~ \"Mercedita Airport\",\n",
        "      TRUE ~ name_airport\n",
        "    )\n",
        "  )\n",
        "# view()\n",
        "\n",
        "## 7. นับจำนวนเที่ยวบินที่บินไปแต่ละที่ ว่าปี 2013 สนามบินในนิวยอร์กบินไปไหนมากที่สุดเรียงจากน้อยไปมาก\n",
        "\n",
        "summary_data1 <- prep_n_flights %>%\n",
        "  select(adm1name, n_flights) %>%\n",
        "  group_by(adm1name) %>%\n",
        "  summarise(n_flights = sum(n_flights)) %>%\n",
        "  arrange(- n_flights) %>%\n",
        "  slice_head(n = 5)\n",
        "#summarise(sum(n_flights))\n",
        "\n",
        "## แถม\n",
        "## ลบเเถวที่มี NA ออกให้หมด\n",
        "## show เเถวที่มี NA ประกอบ\n",
        "## ลอง make chart คร่าวๆ\n",
        "\n",
        "flights %>%\n",
        "  # filter(if_all(everything(), ~ !is.na(.)))\n",
        "  # filter(if_any(everything(), is.na))\n",
        "\n",
        "\n",
        "  summary_data1 %>%\n",
        "  ggplot(aes(x = reorder(adm1name,  n_flights), y = n_flights)) +\n",
        "  geom_col() +\n",
        "  coord_flip()\n",
        "\n",
        "## ตอบ Florida, California, North Carolina\n",
        "## --------------- End 1 ------------------"
      ],
      "metadata": {
        "id": "DnJ3H_9w_UgO"
      },
      "execution_count": null,
      "outputs": []
    },
    {
      "cell_type": "markdown",
      "source": [
        "# 2"
      ],
      "metadata": {
        "id": "d_s3Xrn3_VpI"
      }
    },
    {
      "cell_type": "code",
      "source": [
        "### 2. อยากทราบว่า ถ้าไป Florida จะไปช่วงเดือนที่คนไปบ่อยสุด\n",
        "\n",
        "library(nycflights13)\n",
        "\n",
        "flights %>%\n",
        "  filter(if_all(everything(), ~ !is.na(.))) %>%\n",
        "  left_join(state, by = c(\"dest\" = \"faa\")) %>%\n",
        "  mutate(\n",
        "    adm1name = case_when(\n",
        "      is.na(adm1name) & dest == \"STT\" ~ \"U.S. Virgin Islands\",\n",
        "      is.na(adm1name) & dest == \"BQN\" ~ \"Puerto Rico\",\n",
        "      is.na(adm1name) & dest == \"SJU\" ~ \"Puerto Rico\",\n",
        "      is.na(adm1name) & dest == \"PSE\" ~ \"Puerto Rico\",\n",
        "      TRUE ~ adm1name\n",
        "    ),\n",
        "    name_airport = case_when(\n",
        "      is.na(name_airport) & dest == \"STT\" ~ \"Cyril E. King Airport\",\n",
        "      is.na(name_airport) & dest == \"BQN\" ~ \"Rafael Hernandez Airport\",\n",
        "      is.na(name_airport) & dest == \"SJU\" ~ \"Luis Munoz Marin Interenational Airpot\",\n",
        "      is.na(name_airport) & dest == \"PSE\" ~ \"Mercedita Airport\",\n",
        "      TRUE ~ name_airport\n",
        "    )\n",
        "  ) %>%\n",
        "  filter(adm1name == \"Florida\") %>%\n",
        "  mutate(month = month(time_hour, label = TRUE)) %>%\n",
        "  group_by(month) %>%\n",
        "  summarise(total_flights = n()) %>%\n",
        "  ggplot(aes(x = month, y = total_flights, group = 1)) +\n",
        "  geom_line(color = \"blue\", size = 1.2) +\n",
        "  geom_point(color = \"red\", size = 3) +\n",
        "  labs(\n",
        "    title = \"Number of Flights to Florida by Month\",\n",
        "    x = \"Month\",\n",
        "    y = \"Total Flights\"\n",
        "  ) +\n",
        "  theme_minimal()\n",
        "\n",
        "## ตอบ เดือน 3 12 4 1 ตามลำดับ\n",
        "## --------------- End 2 ------------------"
      ],
      "metadata": {
        "id": "cYUgvauA_Z4d"
      },
      "execution_count": null,
      "outputs": []
    },
    {
      "cell_type": "markdown",
      "source": [
        "# 3"
      ],
      "metadata": {
        "id": "G0uocfNz_aWq"
      }
    },
    {
      "cell_type": "code",
      "source": [
        "## 3. สายการบินไหนดีขาไปที่มีโอกาส\n",
        "# ไฟต์ดีเลย์น้อยขาออก + ถึงก่อนเวลา\n",
        "# ใช้เวลาบินน้อยสุด + ระยะเวลาบินต่อเที่ยวบิน ใน 1 ปี (2013 อยู่เเล้ว)\n",
        "# * เงื่อนไขคือ เราต้องมาถึงสนามบินอย่างน้อย 3 ชม.\n",
        "# (check in, ทานข้าว, เผื่อเวลาฉุกเฉินเร่งด่วน ซึ่ง) และรีบไปปลายทางเร็วทีุ่ด\n",
        "\n",
        "\n",
        "flights %>%\n",
        "  filter(if_all(everything(), ~ !is.na(.))) %>%\n",
        "  # select(carrier, dep_delay, arr_delay, air_time) %>%\n",
        "  left_join(airlines, by = \"carrier\") %>%\n",
        "  left_join(state, by = c(\"dest\" = \"faa\")) %>%\n",
        "  select(name, adm1name, dep_delay, arr_delay, air_time) %>%\n",
        "  filter(adm1name == \"Florida\") %>%\n",
        "  # filter(if_any(everything(), is.na)) %>%\n",
        "  select(1, 3:5) %>%\n",
        "  mutate(mint_expect = -(dep_delay + arr_delay)) %>%\n",
        "  select(1, 4:5) %>%\n",
        "  arrange(- mint_expect) %>%\n",
        "  group_by(name) %>%\n",
        "  summarise(mint_tra = sum(mint_expect),\n",
        "            time = sum(air_time),\n",
        "            n_flights = n()) %>%\n",
        "  mutate(avg = time / n_flights) %>%\n",
        "  select(name, mint_tra, avg) %>%\n",
        "  arrange(-mint_tra, avg)\n",
        "\n",
        "\n",
        "\n",
        "## Ans.>>  Envoy Air, Endeavor Air Inc., ExpressJet Airlines Inc.\n",
        "## --------------- End 3 ------------------\n"
      ],
      "metadata": {
        "id": "IjhF2i6e_a6f"
      },
      "execution_count": null,
      "outputs": []
    },
    {
      "cell_type": "markdown",
      "source": [
        "# 4\n"
      ],
      "metadata": {
        "id": "IHju-oed_cQ-"
      }
    },
    {
      "cell_type": "code",
      "source": [
        "## 4. สภาพอากาศ ขาไปควร\n",
        "## - เลือกไปสนามบินไหน (หลักๆ 3 ที่ EWR(NJ), JFK(NY), LGA(NY))\n",
        "## - ช่วงเวลากี่โมง\n",
        "\n",
        "## ส่วนนี้ไม่เกีย่วกับข้อ 4จนถึง....\n",
        "cal_cor_by_col <- function(df) {\n",
        "  # ตรวจสอบว่า dataframe ต้องมีอย่างน้อย 2 คอลัมน์ (คอลัมน์แรกเป็น character)\n",
        "  if (ncol(df) < 2) {\n",
        "    stop(\"DataFrame must have at least 2 columns: one character column and numeric columns.\")\n",
        "  }\n",
        "\n",
        "  # สร้างค่าของ x ที่เป็น 1:nrow(df)\n",
        "  x <- 1:nrow(df)\n",
        "\n",
        "  # สร้างการคำนวณค่า correlation สำหรับแต่ละคอลัมน์ใน df ที่เป็น numeric\n",
        "  correlation_results <- df %>%\n",
        "    select(-1) %>%  # เอาคอลัมน์แรก (character) ออก\n",
        "    map_dfc(~ cor(x, .))  # คำนวณ correlation สำหรับแต่ละคอลัมน์\n",
        "\n",
        "  # ใส่ชื่อคอลัมน์ของผลลัพธ์\n",
        "  colnames(correlation_results) <- colnames(df)[-1]\n",
        "\n",
        "  return(correlation_results)\n",
        "}\n",
        "\n",
        "df <- weather %>%\n",
        "  select_if(is.numeric) %>%\n",
        "  bind_cols(origin = weather$origin) %>%\n",
        "  select(origin, 5:13) %>%\n",
        "  select(!wind_gust, !visib) %>%\n",
        "  select(1:8) %>%\n",
        "  mutate(row_number = row_number()) %>%\n",
        "  replace_na(list(\n",
        "    temp = 0,\n",
        "    dewp = 0,\n",
        "    humid = 0,\n",
        "    wind_dir = 0,\n",
        "    wind_speed = 0,\n",
        "    pressure = 0\n",
        "  )) %>%\n",
        "  group_by(origin) %>%\n",
        "  summarise(cor_temp_vs_dewp = cor(df$temp, df$dewp))\n",
        "  cal_cor_by_col()\n",
        "  # filter(if_any(everything(), is.na)) %>%\n",
        "  # map(~ sum(is.na(.))) # เช็คว่าคอลัมน์ไหนมี NA\n",
        "\n",
        "  ## ส่วนนี้ไม่เกีย่วกับข้อ 4จนถึง....ตรงนี้!!\n",
        "\n",
        "library(nycflights13)\n",
        "library(dplyr)\n",
        "library(ggplot2)\n",
        "\n",
        "# รวมข้อมูล flights และ weather\n",
        "flights_weather <- flights %>%\n",
        "  left_join(weather, by = c(\"origin\", \"year\", \"month\", \"day\", \"hour\")) %>%\n",
        "  filter(!is.na(precip)) # กรองเฉพาะข้อมูลที่มีค่า precip\n",
        "\n",
        "# คำนวณโอกาสฝนตกในแต่ละสนามบินและช่วงเวลา\n",
        "rain_analysis <- flights_weather %>%\n",
        "  mutate(rain = ifelse(precip > 0, 1, 0)) %>%\n",
        "  group_by(origin, month, hour) %>%\n",
        "  summarise(\n",
        "    total_flights = n(),\n",
        "    rainy_flights = sum(rain),\n",
        "    rain_prob = mean(rain)\n",
        "  ) %>%\n",
        "  arrange(rain_prob) # เรียงตามโอกาสฝนตกจากน้อยไปมาก\n",
        "\n",
        "# แสดงกราฟโอกาสฝนตกตามสนามบินและช่วงเวลา\n",
        "ggplot(rain_analysis, aes(x = hour, y = rain_prob, color = origin)) +\n",
        "  geom_line(size = 1) +\n",
        "  facet_wrap(~ month, scales = \"free_x\") +\n",
        "  labs(\n",
        "    title = \"Rain Probability by Airport and Time of Day\",\n",
        "    x = \"Hour\",\n",
        "    y = \"Rain Probability (%)\"\n",
        "  ) +\n",
        "  theme_minimal()\n",
        " ## Ans 9, 10, 4, 11 (4 เพราะ จากข้อ 2 คนนิยมไปช่วงเดือนนี้ Top 3 ของเดือน)\n",
        "## --------------- End 4 Final ------------------"
      ],
      "metadata": {
        "id": "zaV4a0MF_ctG"
      },
      "execution_count": null,
      "outputs": []
    },
    {
      "cell_type": "markdown",
      "source": [],
      "metadata": {
        "id": "6nw7upaY_mLQ"
      }
    },
    {
      "cell_type": "code",
      "source": [],
      "metadata": {
        "id": "s7noTClt_mbL"
      },
      "execution_count": null,
      "outputs": []
    },
    {
      "cell_type": "markdown",
      "source": [],
      "metadata": {
        "id": "hsCeO6hT_noR"
      }
    },
    {
      "cell_type": "code",
      "source": [],
      "metadata": {
        "id": "s1Cm01EI_oQJ"
      },
      "execution_count": null,
      "outputs": []
    }
  ]
}