{
  "nbformat": 4,
  "nbformat_minor": 0,
  "metadata": {
    "colab": {
      "provenance": [],
      "toc_visible": true,
      "include_colab_link": true
    },
    "kernelspec": {
      "name": "python3",
      "display_name": "Python 3"
    },
    "language_info": {
      "name": "python"
    }
  },
  "cells": [
    {
      "cell_type": "markdown",
      "metadata": {
        "id": "view-in-github",
        "colab_type": "text"
      },
      "source": [
        "<a href=\"https://colab.research.google.com/github/Phubordin/portfolio-project/blob/main/portfolio-project/P09-Chatbot-Development-for-a-Pizza-Business-Using-R-Programming.ipynb\" target=\"_parent\"><img src=\"https://colab.research.google.com/assets/colab-badge.svg\" alt=\"Open In Colab\"/></a>"
      ]
    },
    {
      "cell_type": "markdown",
      "source": [
        "# คำแนะนำ\n",
        "\n",
        "ฝากเว็บไซต์ [My Portfolio Website (⭐️ Project 9)](https://phubordin.github.io/My-Portfolio-Website/project_rfm_py_dsb10.html)\n",
        "\n",
        "---\n",
        "\n",
        "ถึงทุกคนที่กำลังดูหน้าเว็บนี้อยู่บน [Google Colab](https://colab.research.google.com/drive/1r5JBCZ9OCMExucj47YEKTu8Utino1N5E?usp=sharing) สามารถลองสั่งอาหารได้ โดยกด\n",
        "\n",
        "`File → Save a copy in Drive` เมื่อ Copy สำเร็จสามารถ\n",
        "\n",
        "กด `Run All ใช้เวลารัน <30 วิ` ได้ที่มุมบนซ้ายได้เลย (`ต้องรันใน notebook ที่ copy ไปนะครับไม่งั้นจะรันไมไ่ด้`)\n",
        "\n",
        "⭐️ ระบบจะเลื่อนลงไปข้างล่าง ให้เราพิมพ์ตามคำแนะนำได้เลย\n",
        "\n",
        "แนะนำครั้งแรกให้พิมว่า `\"menu\"` เพื่อดูว่าเมนูราคาร้าน Pizza มีเมนูอะไรบ้าง\n",
        "\n",
        "หวังว่าจะลองเล่นกันดูนะ ขอบคุณครับ. 🎉"
      ],
      "metadata": {
        "id": "I9RwqIfR-eAr"
      }
    },
    {
      "cell_type": "markdown",
      "source": [
        "# ติดตั้ง R Magic\n",
        "สามารถรันโค้ด R ได้โดยไม่ต้องเปลี่ยนประเภทรันไทม์ แค่พิมพ์ %%R ไว้กับ cell ที่ต้องการจะรันโค้ด\n",
        "\n",
        "(ที่ผมไม่เปลี่ยนประเภทรันไทม์เป็น R เพราะการแสดงผลข้อความแนะนำไม่เหมือนบน RStudio หรือ Posit Clod)\n",
        "\n",
        "ขออนุญาตละไว้ตรงนี้นะครับ"
      ],
      "metadata": {
        "id": "hiEXgX7QhrZY"
      }
    },
    {
      "cell_type": "code",
      "source": [
        "# ติดตั้ง rpy2 (ต้องรันเสมอเมื่อเปิด notebook ใหม่)\n",
        "!pip install -q rpy2\n",
        "\n",
        "# โหลด R magic โหลดเพื่อไว้รัน R ได้โดยไม่ต้องเปลี่ยนประเภท Runtime\n",
        "%load_ext rpy2.ipython"
      ],
      "metadata": {
        "id": "ikH_wI0k9gfM",
        "outputId": "c9114cd2-c032-41d3-b963-0c0383df8fff",
        "colab": {
          "base_uri": "https://localhost:8080/"
        }
      },
      "execution_count": null,
      "outputs": [
        {
          "output_type": "stream",
          "name": "stdout",
          "text": [
            "The rpy2.ipython extension is already loaded. To reload it, use:\n",
            "  %reload_ext rpy2.ipython\n"
          ]
        }
      ]
    },
    {
      "cell_type": "markdown",
      "source": [
        "# โครงสร้างกระบวนการสั่ง Pizza Chatbot ด้วยภาษา R\n",
        "\n",
        "สร้าง Workflow ต่างๆ while, if รวมถึงกำหนดค่าแสดงข้อความต่างๆ"
      ],
      "metadata": {
        "id": "0-oCtrz4hxZB"
      }
    },
    {
      "cell_type": "code",
      "execution_count": null,
      "metadata": {
        "id": "WWjeWuUB2SrW"
      },
      "outputs": [],
      "source": [
        "# Syntax เปลี่ยนรันไทม์เป็น R Runtime เฉพาะ Cell นี้ทั้งหมด\n",
        "%%R\n",
        "\n",
        "# กำหนดรายชื่อเมนูอาหารและเครื่องดื่มต่างๆ ไว้ใน Vector ชื่อ Menu (เอาไว้แสดงรายชื่อ menu อาหารที่ลูกค้าพิมพ์ check เข้ามา)\n",
        "menu <- c(\n",
        "  \"Margherita Pizza\", \"Pepperoni Pizza\",\n",
        "  \"BBQ Chicken Pizza\", \"Vegetarian Pizza\",\n",
        "  \"Seafood Deluxe Pizza\",\n",
        "  \"Coca-Cola\", \"Iced Lemon Tea\",\n",
        "  \"Orange Juice\", \"Sparkling Water\",\n",
        "  \"Mango Smoothie\",\n",
        "  \"Chocolate Lava Cake\", \"Tiramisu\",\n",
        "  \"Cheesecake\", \"Fruit Salad\",\n",
        "  \"Ice Cream Sunday\"\n",
        ")\n",
        "\n",
        "# ปรับรายชื่อเมนูอาหารเครื่องดื่มเป็นตัวพิมพ์เล็กให้หมด และเก็บไว้ในตัวแปร Vector ใหม่ชื่อ menu_lower (เอาไว้ verify ตอนที่ users สั่งอาหารเข้ามา)\n",
        "menu_lower <- tolower(menu)\n",
        "\n",
        "# กำหนดราคาของแต่ละเมนูตามลำดับเดียวกันกับ vector เมนู ด้วยการสุ่มตัวเลข ผลลัพธ์จะเป็น vector ตัวเลข\n",
        "price <- c(\n",
        "  sample(15:20, 5),  # สุ่มราคาพิซซ่า แต่ละถาดให้มีช่วงราคาอยู่ที่ $15-$20 มาทั้งหมด 5 ถาด\n",
        "  sample(2:6, 5),    # สุ่มราคาเครื่องดื่ม แต่ละแก้วให้มีช่วงราคาอยู่ที่ $2-$6 มาทั้งหมด 5 แก้ว\n",
        "  sample(7:12, 5)    # สุ่มราคาของหวาน แต่ละถ้วยให้มีช่วงราคาอยู่ที่ $7-$12 มาทั้งหมด 5 ถ้วย\n",
        ")\n",
        "\n",
        "# สร้างตารางข้อมูล โดยเอา vector ก่อนหน้ามาใส่ นั่นคือ menu, price มารวมกันเป็นตารางข้อมูล พร้อมตั้งชื่อคอลัมน์ใหม่\n",
        "df_menu <- data.frame(MENU = menu, PRICE = price)\n",
        "\n",
        "\n",
        "# เริ่มสร้างโครงสร้างการทำงานของ Chatbot สั่ง pizza อาหาร และเครื่องดื่มต่างๆกันเลย\n",
        "# สร้างฟังก์ชัน pizza() โดยที่เมื่อเรียกใช้ pizza() ขึ้นมาให้..\n",
        "pizza <- function() {\n",
        "  cat(\"\\nWelcome to the Wonderful Pizza Shop!\\n\") # แสดงผล ยินดีต้อนรับสู่ร้าน Wonderful Pizza\n",
        "\n",
        "  collect_order <- list()  # สร้าง empty list มาเพื่อรอรับค่าจากที่ users พิมพ์มา (ในที่นี้คือ เมนูเครื่องดื่มต่างๆที่ลูกค้าจะสั่งเข้ามา)\n",
        "\n",
        "  # สร้าง while ให้รันอย่างต่อเนื่อง\n",
        "  while (TRUE) {\n",
        "    # แสดง คำแนะนำต่างๆ ที่ users จำเป็นต้องรู้ !\n",
        "    cat(\"Order now! :\\n\") # แสดงผล เริ่มสั่งอาหาร !\n",
        "    cat(\"Type 'menu' to see the menu,\\n\") # ลูกค้าพิมพ์ menu เพื่อที่จะดูว่าร้านเรามีเมนูอะไรบ้าง ราคาแต่ละเมนูเป็นยังไง\n",
        "    cat(\"Type 'check' to view your basket and check the bill,\\n\") # ลูกค้าพิมพ์ check เพื่อตรวจสอบว่าในตระกร้ามีเมนูอะไรแล้วบ้าง\n",
        "    cat(\"Type 'reorder' to clear your basket and start over,\\n\") # ลูกค้า reorder เพื่อที่จะล้างตระกร้าให้หมด เพื่อที่จะเพิ่มของลงตระกล้าใหม่ (ไม่มีให้ ลด/เพิ่ม จำนวนเมนูในขณะสั่ง ต้อง reorder ใหม่อีกรอบ)\n",
        "    cat(\"Type 'stop' to leave the restaurant.\\n\") # ลูกค้าพิมพ์ stop เพื่อ (checkout, หากไม่สนใจเมนูใดๆและยังไม่มีเมนูในตระกร้า ก็สามารถยกเลิกการสั่งได้โดยการพิมพ์ stop เพื่อหยุดการทำงานของ chatbot)\n",
        "\n",
        "    # สร้างกล่องข้อความสำหรับให้ users พิมพ์โต้ตอบกับตัว Chatbot พร้อมแสดงข้อความถาม users ว่า \"คุณชอบเมนูไหนเป็นพิเศษไหม?\"\n",
        "    order_item <- tolower(readline(\"What would you like to do? \"))\n",
        "\n",
        "    # เริ่มกระบวนการตรวจสอบว่า สิ่งที่ users พิมพ์เข้ามา เราจะให้แสดงผลอะไรออกไปบ้าง ซึ่งสิ่งที่ users อาจพิมพ์คือ ข้อความคำแนะนำก่อนหน้าคือ (menu, check, reorder, stop, others..)\n",
        "    if (order_item %in% \"menu\") { # ถ้า users พิมพ์ menu\n",
        "      cat(\"\\n----------- MENU -----------\\n\") # ให้แสดงผล หัวข้อใหญ่ชื่อว่า MENU\n",
        "      print(df_menu) # แสดงตารางรายการชื่อเมนูพิซซ่า อาหาร และเครื่องดื่ม รวมถึงราคา\n",
        "      next # เมื่อแสดงผลเสร็จแล้วให้ ดำเนินการต่อไป โดยจะกลับไปรันโค้ดก่อนหน้า กล่าวคือ (ให้แสดงข้อความว่า \"What would you like to do?\" และให้ users พิมพ์เข้ามาหลังจากดูเมนูเสร็จแล้ว)\n",
        "    }\n",
        "\n",
        "    if (order_item %in% \"stop\") { # แต่ถ้า users พิมพ์ stop กล่าวคือ users อาจไม่สนใจรายการอาหารของเรา ก็จะ..\n",
        "      break # หยุดกระบวนการโต้ตอบ Chatbot ทันที (คำสั่งสือไม่สำเร็จ ยกเลิก order ในตระกร้าทั้งหมด)\n",
        "    }\n",
        "\n",
        "    if (order_item %in% \"check\") { # แต่ถ้าลูกค้าสั่งเข้ามาเรื่อยๆ แล้วอยู่ดีๆอยาก check ว่าสั่งอะไรไปแล้วบ้างโดยการพิมพ์คำว่า check เข้ามาระบบก็จะทำการ..\n",
        "      if (length(collect_order) == 0) { # ตรวจสอบว่ามีเมนูถูกสั่งเข้ามาหรือยังไง ถ้ายังไม่มีให้แสดงว่า..\n",
        "        cat(\"\\nYour basket is empty.\\n\") # \"ตระกร้าคุณยังว่างอยู่นะครับ\" (Your basket is empty.)\n",
        "      } else { # แต่ถ้าในตระกร้ามีเมนูอาหารอยู่\n",
        "        # ให้เอาชื่อเมนูแต่ละเมนูในตระกร้า (names(collect_order))\n",
        "        # ไปจับคู่กับชื่อเมนู(lowercase) เราจะได้ตำแหน่งออกมาพร้อมนำไป subset by position\n",
        "        original_menu_names <- sapply(names(collect_order), function(name) {\n",
        "          # เช่น menu[1] = Margherita Pizza เลข 1 คือตำแหน่ง (เพราะเราอยากให้ users เห็นชื่อเมนูแบบ Capitalized ถ้าเราเอา names(collect_order) มามันจะเป็นตัว lowercase ทั้งหมด)\n",
        "          # ดังนั้นเวกเตอร์ original_menu_names จะเก็บคือเมนูอาหารแบบ Capitalized ไว้ในค่า และจะมีชื่อเมนูแบบ lowercase ไว้กำกับแต่ละค่าในเวกเตอร์นี้อีกที เราค่อยนำออกตอนนำไปสร้างตารางสรุปรายการคำสั่งซื้อ\n",
        "          menu[match(name, menu_lower)]\n",
        "        })\n",
        "\n",
        "        # สร้างตารางสรุปคำสั่งซื้อ ให้ลูกค้าเห็น\n",
        "        order_summary <- data.frame(\n",
        "          # คอลัมน์ \"Menu\" คือชื่อเมนูจริง (Original names แบบ Capitalized)\n",
        "          Menu = unname(original_menu_names), # sapply() เมื่อประมวลผลเสร็จ มันจะ “คืนค่าผลลัพธ์เป็นเวกเตอร์” และ “คงชื่อเดิมของ input” เอาไว้เป็น names ของเวกเตอร์ผลลัพธ์ ดังนั้นเราจึงใช้ unname เพื่อนำชื่อออก\n",
        "\n",
        "          # คอลัมน์ \"Quantity\" คือจำนวนที่สั่ง โดยแปลง collect_order เป็นเวกเตอร์ (unlist) จากนั้นนำชื่อแต่ละ argument ออกเพราะมันคือชื่อเมนูเราไม่ต้องการ เราต้องการแค่จำนวนแต่ละเมนูที่ลูกค้าใส่เข้ามาในตระกร้าเท่านั้น\n",
        "          Quantity = unname(unlist(collect_order)),\n",
        "\n",
        "          # คอลัมน์ \"Unit_Price_Dollar\" คือราคาต่อหน่วยของเมนู, ใช้ match() เพื่อหา index ของชื่อใน menu_lower แล้วดึงราคาจาก price\n",
        "          Unit_Price_Dollar = price[match(names(collect_order), menu_lower)],\n",
        "\n",
        "          # คอลัมน์ \"Total_Price\" คือราคารวม (Quantity * Unit Price) ของแต่ละเมนูที่อยู่ในตระกร้าที่ลูกค้าสั่ง โดยนำ..\n",
        "          # list แปลงเป็นเวกเตอร์เพื่อจะนำ Quantity ออกมา และนำไปคูณกับ price ที่เกิดจากการ sutset position โดยนำชื่อของ list (ชื่อเมนูที่อยู่ในตระกร้า) ไปจับคู่กับชื่อเมนูตัวพิมพ์เล็กทั้งหมดเพื่อจะได้ระบุตำแหน่งของราคาต่อหน่วยที่ถูกต้อง และดึง price[] มาได้ถูกต้อง\n",
        "          # เมื่อคูณกันจะมีชื่อ กำกับค่าต่างๆในเวกเตอร์ให้เรานำออก ก่อนนำไปสร้างตารางสรุปผลลัพธ์โดยใช้ unname ทีหลัง\n",
        "          Total_Price_Dollar = unname(unlist(collect_order) * price[match(names(collect_order), menu_lower)]),\n",
        "\n",
        "          # ไม่ให้ R แปลงคอลัมน์ประเภทข้อความ กลายเป็นประเภท factor\n",
        "          stringsAsFactors = FALSE\n",
        "        )\n",
        "\n",
        "        # แสดงตารางผลลัพธ์ พร้อมข้อความระบุ\n",
        "        cat(\"\\nYour current order summary:\\n\") # แสดงข้อความระบุ\n",
        "        print(order_summary) # แสดงตารางสรุปคำสั่งซื้อ\n",
        "\n",
        "        # สรุปจำนวนเงินที่ลูกค้าต้องจ่ายทั้งหมด นำค่าจากคอลัมน์ Total_Price_Dollar มารวมกันทั้งหมด\n",
        "        total_order <- sum(order_summary$Total_Price_Dollar)\n",
        "        cat(\"\\nOrder Total: $\", total_order, \"\\n\", sep = \"\") # แสดงข้อความ (sep = \"\" หมายถึง แบ่งโดยค่าว่าง) เช่น \"Order Total: $18\"\n",
        "\n",
        "        # จากนั้นถามลูกค้าว่า อยากยืนยันคำสั่งซื้อเลยไหม โดยให้ตอบ Y หรือ N? ต่อให้ลูกค้าจะพิมพ์แบบ lowercase หรือ uppercase เราจะตั้งค่าให้เป็นตัว lowercase ทั้งหมด\n",
        "        confirm_order <- tolower(readline(\"\\nDo you confirm your order? (Y/N): \"))\n",
        "\n",
        "        # ถ้าลูกค้าตอบ Y เราจะแสดงข้อความ \"ยืนยันคำสั่งซื้อ! ขอบคุณที่ใช้บริการ\" พร้อมกับแสดงตาราง(คล้ายใบเสร็จบอกว่าลูกค้าได้สั่งซื้ออะไรไป)\n",
        "        if (confirm_order %in% \"y\") {\n",
        "          cat(\"\\nOrder confirmed! Thank you for your purchase.\\n\")\n",
        "          return(order_summary)\n",
        "        } else if (confirm_order %in% \"n\") {  # แต่ถ้าลูกค้าตอบ N เราจะแสดงข้อความบอกลูกค้าว่า \"คุณลูกค้าสามารถเริ่มสั่งซื้อต่อได้เลยครับ\"\n",
        "          cat(\"\\nYou can continue ordering.\\n\")\n",
        "          next #  พร้อมกระโดดไปรันโค้ดบรรทัดที่เราถามลูกค้าว่า \"คุณชอบเมนูไหนเป็นพิเศษไหม?\" (ตรง while(TRUE) ที่แสดงคำแนะนำให้ลูกค้า)\n",
        "        } else { # แต่ถ้าลูกค้าไม่ได้พิมพ์ Y หรือ N เราจะแสดงข้อความ \"ใส่ข้อมูลไม่ถูกต้อง ให้กลับไปหน้าเมนูใหม่อีกครั้ง\"..\n",
        "          cat(\"Invalid input. Returning to menu.\\n\")\n",
        "          next # (ก็คือหน้าที่แสดงคำแนะนำให้ลูกค้า พร้อมถามลูกค้าใหม่ว่า \"คุณชอบเมนูไหนเป็นพิเศษไหม?\" นั่นเอง)\n",
        "        }\n",
        "      }\n",
        "      next # แสดงคำแนะนำใหม่ให้ลูกค้าทราบอีกครั้ง พร้อมถามลูกค้าใหม่ว่า \"คุณชอบเมนูไหนเป็นพิเศษไหม?\" (โค้ดบรรทัดนี้จะทำงานก็ต่อเมื่อในตระกร้า นั้นว่างเปล่า\n",
        "    }\n",
        "\n",
        "    # ถ้าลูกค้าพิมพ์ว่า \"reorder\" ระบบจะทำการ..\n",
        "    if (order_item %in% \"reorder\") {\n",
        "      cat(\"\\nYou chose to clear your basket and start over.\\n\") # แสดงข้อความ \"คุณได้เลือกล้างตระกร้าของคุณให้ว่างเปล่าเรียบร้อยแล้ว\"\n",
        "      collect_order <- list() # ตระกร้าหรือ list ที่เก็บข้อความจะว่างเปล่า\n",
        "      next # พร้อมแสดงคำแนะนำใหม่ให้ลูกค้าทราบอีกครั้ง พร้อมถามลูกค้าใหม่ว่า \"คุณชอบเมนูไหนเป็นพิเศษไหม?\"\n",
        "    }\n",
        "\n",
        "    # ถ้าลูกค้าพิมพ์ ชื่อเมนูอาหารต่างๆที่มีอยู่ในเวกเตอร์ menu_lower ระบบจะทำการ..\n",
        "    if (order_item %in% menu_lower) { # ถามลูกค้าต่อเนื่องว่า.. \"ต้องการเมนูอาหารที่สั่งเมื่อสักครู่นี้กี่ชุดดีครับ?\"\n",
        "      order_quantity <- as.integer(readline(paste(\"How many\", order_item, \"would you like to order? \"))) # โดยใช้ paste() เชื่อมคำ, readline() รับ input จาก users, as.integer() แปลงเป็นตัวเลขจำนวนเต็ม\n",
        "\n",
        "      # เมื่อรับค่าจากที่ users พิมพ์เข้ามาแล้ว (จำนวนของชุดเมนูที่สั่ง) เราจะมา verify ว่า.. สิ่งที่ users พิมพ์มานั้นเป็นตัวเลขที่สอดคล้องไหม?\n",
        "      if (is.na(order_quantity) || order_quantity <= 0) { # ถ้า users พิมพ์มาเป็นค่า NA หรือจำนวนเต็มลบ หรือจำนวนเต็มศูนย์\n",
        "        cat(\"Invalid quantity. Please enter only a positive integer!\\n\") # ให้แสดงข้อความตอบกลับว่า \"จำนวนชุดเมนูไม่ถูกต้อง กรุณาระบุตัวเลขจำนวนเต็มบวกเท่านั้น\"\n",
        "        next # พร้อมแสดงคำแนะนำใหม่ให้ลูกค้าทราบอีกครั้ง พร้อมถามลูกค้าใหม่ว่า \"คุณชอบเมนูไหนเป็นพิเศษไหม?\"\n",
        "      }\n",
        "\n",
        "      if (order_item %in% names(collect_order)) { # แต่ถ้าเกิดเหตุการณ์ที่ในตระกร้านี้มีเมนูนี้อยู่แล้ว (ลูกค้าใส่ชื่อเมนู แล้วจำนวนชุดของเมนูนี้มาใหม่) ระบบจะทำการ..\n",
        "        confirm_add <- tolower(readline(\"You have already ordered this item. Do you want to add more? (Y/N): \")) # ตอบกลับว่า \"ลูกค้ามีคำสั่งซื้อเมนูนี้อยู่แล้ว คุณต้องการจะเพิ่มจำนวนชุดของเมนูนี้อีกรอบไหม? ให้ตอบ Y หรือ N\"\n",
        "\n",
        "        if (confirm_add %in% \"y\") { # ถ้า users ตอบ Y (ยอมรับว่าจะเพิ่มจำนวนชุดของเมนูนี้อีก..)\n",
        "          collect_order[[order_item]] <- collect_order[[order_item]] + order_quantity # เราจะอัพเดทจำนวนชุดของเมนูนี้ในตระกร้า ถ้าหากเดิมมีอยู่ 2 แล้วลูกค้าพิมพ์ชื่อเมนูนี้มาพร้อมกับระบุจำนวนมาอีกครั้งคือ 3 เราจะนำชุดเมนูนี้เป็น 2+3 นั่นคือ 5\n",
        "          cat(\"Updated:\", order_item, \"-\", collect_order[[order_item]], \"in total.\\n\") # พร้อมเราจะแสดงข้อความบอกลูกค้าว่า \"อัพเดทชุดเมนูของคุณแล้ว เช่น \"Updated: cheesecake - 11 in total.\" (กรณีลูกค้าสั่ง cheesecake ซ้ำ)\n",
        "        } else if (confirm_add %in% \"n\") { # ถ้า users ตอบ N (ปฎิเสธว่าจะไม่เพิ่มเมนูชุดนี้อีก) ระบบจะทำการ..\n",
        "          next # แสดงคำแนะนำใหม่ให้ลูกค้าทราบอีกครั้ง พร้อมถามลูกค้าใหม่ว่า \"คุณชอบเมนูไหนเป็นพิเศษไหม?\"\n",
        "        } else { # หรือถ้า users ไม่ได้พิมพ์มาว่า Y หรือ N เป็นอื่นๆนอกจาก 2 ตัวนี้ ระบบจะทำการ..\n",
        "          cat(\"Invalid input. Skipping this item.\\n\") # แสดงข้อความว่า \"ค่าที่รับเข้ามาไม่ถูกต้อง. ข้ามการเพิ่มเมนูนี้ไปพร้อมรับออเดอร์ใหม่อีกครั้ง\"\n",
        "          next # พร้อมแสดงคำแนะนำใหม่ให้ลูกค้าทราบอีกครั้ง พร้อมถามลูกค้าใหม่ว่า \"คุณชอบเมนูไหนเป็นพิเศษไหม?\"\n",
        "        }\n",
        "      } else { # ต่อเนื่องจากค่าที่รับจาก users (ถ้าหากเป็นจำนวนเต็มบวกแล้ว) ระบบจะทำการ..\n",
        "        collect_order[[order_item]] <- order_quantity # บันทึกจำนวนชุดเมนูอาหารเครื่องดื่ม ที่ users สั่งเข้ามาพรอ้มกับ ระบุว่า..\n",
        "        cat(\"Added:\", order_item, \"->\", order_quantity, \"\\n\") # \"เมนูนี้ ถูกเพิ่มเข้าแล้ว จำนวนหนึ่ง\" เช่น \"Added: cheesecake -> 1\" (กรณีลูกค้าสั่งเมนู cheesecake 1 EA)\n",
        "      }\n",
        "    } else { # 📌🔥🔥 สุดท้ายก่อนออกจาก while(TRUE) ถ้าหากไม่เข้าเงื่อนไขใดๆเลย เช่น ลูกค้าไม่ได้พิมพ์ว่า \"menu\", \"check\", \"reorder\" หรือ \"stop\" ระบบจะทำการ..\n",
        "      cat(\"Invalid input. Please try again.\\n\") # แสดงข้อความตอบกลับว่า \"ค่าที่รับไม่ถูกต้อง. โปรดลองใหม่อีกครั้ง\" จะขึ้นคำถามใหม่ว่า \"คุณชอบเมนูไหนเป็นพิเศษไหม?\" (เพราะเรายังอยู่ใน while(TRUE) อยู่จะออกจากการใส่ค่าได้ต้องพิมพ์ \"stop\" หรือยืนยันคำสั่งซื้อแล้ว เท่านั้น)\n",
        "    }\n",
        "  }\n",
        "\n",
        "  if (length(collect_order) == 0) { # สมมติว่า ถ้า users ยืนยันคำสั่งซื้อไปแล้วก็จะจบไป 1 กรณี, แต่พิมพ์ว่า users เพิ่มเมนูเข้าตระกร้าหรือไม่มีเมนูใดๆอยู่ในตระกร้าเลย และ users พิมพ์ว่า \"stop\" ระบบจะทำการ..\n",
        "    print(\"Your basket is currently empty. Thank you for visiting and using our service!\") # แสดงข้อความว่า \"ตระกร้าของคุณยังไม่มีเมนูใดๆ ขอบคุณที่ใช้บริการนะครับ\" กรณีที่ตระกร้าของคุณลูกค้าว่างเปล่า แล้วถ้า..\n",
        "  } else { # ถ้าหากมีเมนูอยู่ในตระกร้า หลังจากที่ users พิมพ์ว่า \"stop\" ระบบจะตอบกลับก่อนจะจบการสั่งอาหารร้าน pizza ว่า..\n",
        "    # แสดงข้อความ \"หากคุณลูกค้ากลับมาใหม่ เมนูคุณในตระกร้าจะหายไปนะครับ โอกาสหน้าเราเรียนเชิญและยินดีต้อนรับคุณลูกค้านะครับ\"\n",
        "    print(\"If you return for a new visit, the items in your basket will no longer be there. We warmly invite you and look forward to welcoming you again!\")\n",
        "  }\n",
        "}\n"
      ]
    },
    {
      "cell_type": "markdown",
      "source": [
        "# โค้ดเริ่มสั่ง Pizza พร้อมบันทึกเมนู"
      ],
      "metadata": {
        "id": "6r1wsuP-6b7s"
      }
    },
    {
      "cell_type": "code",
      "source": [
        "# Syntax เปลี่ยนรันไทม์เป็น R Runtime เฉพาะ Cell นี้ทั้งหมด\n",
        "%%R\n",
        "\n",
        "# รันโค้ด Cell นี้ เพื่อเริ่มสั่งพิซซ่า หรือเมนูเครื่องดื่มต่างๆ ได้เลย! พร้อมบันทึกข้อมูลไว้ใน Order\n",
        "order_summary <- pizza()\n"
      ],
      "metadata": {
        "colab": {
          "base_uri": "https://localhost:8080/"
        },
        "id": "JTP4t7Y945xj",
        "outputId": "5357ffae-3f77-44e9-c0c0-0f33b1ab4fb8"
      },
      "execution_count": null,
      "outputs": [
        {
          "output_type": "stream",
          "name": "stdout",
          "text": [
            "\n",
            "Welcome to the Wonderful Pizza Shop!\n",
            "Order now! :\n",
            "Type 'menu' to see the menu,\n",
            "Type 'check' to view your basket and check the bill,\n",
            "Type 'reorder' to clear your basket and start over,\n",
            "Type 'stop' to leave the restaurant.\n",
            "What would you like to do? stop\n",
            "[1] \"Your basket is currently empty. Thank you for visiting and using our service!\"\n"
          ]
        }
      ]
    },
    {
      "cell_type": "markdown",
      "source": [
        "# แสดง/บันทึก เมนู Pizza ที่ลูกค้าสั่งล่าสุด\n",
        "\n",
        "เก็บข้อมูลตารางไว้ในตัวแปรชื่อ `order_summary` เผื่อเราจะนำตารางนี้ไปวิเคราะห์ต่อ\n"
      ],
      "metadata": {
        "id": "xcizivMp-Bjd"
      }
    },
    {
      "cell_type": "code",
      "source": [
        "# Syntax เปลี่ยนรันไทม์เป็น R Runtime เฉพาะ Cell นี้ทั้งหมด\n",
        "%%R\n",
        "\n",
        "# แสดงผลการกระทำที่ลูกค้าสั่งอาหารเมื่อสักครู่ ไม่ว่าจะเป็น..\n",
        "# - สั่งอาหารสำเร็จ (แสดงเมนูรายการอาหารที่สั่ง)\n",
        "# - ออกจากร้านโดยพิมพ์ \"stop\" ตั้งแต่ยังไม่มีหรือมีเมนูในตระกร้า (แสดงข้อความขอบคุณคุณลูกค้า)\n",
        "order_summary\n"
      ],
      "metadata": {
        "colab": {
          "base_uri": "https://localhost:8080/"
        },
        "id": "0A5ZTVWF8ymS",
        "outputId": "bd7f4551-31bb-4c29-e839-5c5bd5986558"
      },
      "execution_count": null,
      "outputs": [
        {
          "output_type": "stream",
          "name": "stdout",
          "text": [
            "[1] \"Your basket is currently empty. Thank you for visiting and using our service!\"\n"
          ]
        }
      ]
    }
  ]
}