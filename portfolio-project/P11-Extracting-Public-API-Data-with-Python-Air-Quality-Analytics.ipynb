{
  "nbformat": 4,
  "nbformat_minor": 0,
  "metadata": {
    "colab": {
      "provenance": [],
      "authorship_tag": "ABX9TyN9pWwIwml08ragVFgAEKW/",
      "include_colab_link": true
    },
    "kernelspec": {
      "name": "python3",
      "display_name": "Python 3"
    },
    "language_info": {
      "name": "python"
    }
  },
  "cells": [
    {
      "cell_type": "markdown",
      "metadata": {
        "id": "view-in-github",
        "colab_type": "text"
      },
      "source": [
        "<a href=\"https://colab.research.google.com/github/Phubordin/portfolio-project/blob/main/portfolio-project/P11-Extracting-Public-API-Data-with-Python-Air-Quality-Analytics.ipynb\" target=\"_parent\"><img src=\"https://colab.research.google.com/assets/colab-badge.svg\" alt=\"Open In Colab\"/></a>"
      ]
    },
    {
      "cell_type": "markdown",
      "source": [
        "# คำแนะนำ :\n",
        "\n",
        "[My Portfolio Website [Mini Project 11](https://phubordin.github.io/My-Portfolio-Website/project_mini_api_py.html)\n",
        "\n",
        "---\n",
        "\n",
        "คุณสามารถลองดึงข้อมูลด้วย API ของเว็บไซต์ (Air Quality API)[https://open-meteo.com/en/docs/air-quality-api] ด้วยโค้ดด้านล่างได้เลยครับ แต่ก่อนอื่นแนะนำให้กด..\n",
        "\n",
        "`File → Save a copy in Drive` เมื่อ Copy สำเร็จสามารถ\n",
        "\n",
        "กด `Run all` ที่ซ้ายบนได้เลยครับ (`ต้องรันใน notebook ที่ copy ไปนะครับไม่งั้นจะรันไมไ่ด้`)\n",
        "\n",
        "---\n",
        "\n",
        "จากนั้นเมื่อคุณรันเสร็จแล้วคุณจะได้ข้อมูล ฝุ่นในอากาศ (pm10, p,2.5) ไมโครกรัมต่อลูกบาศก์เมตร\n",
        "\n",
        "รายชั่วโมงย้อนหลัง 90 วันของกรุงเทพ ประเทศไทย -> เป็นไฟล์ Excel\n",
        "\n",
        "คุณสามารถดาวน์โหลดที่แถบด้านซ้ายรูป File อยู่อันท้ายสุด\n",
        "\n",
        "เมื่อคลิกเข้าไปคุณจะเห็นชื่อไฟล์ `air_quality.xlsx` สามารถคลิกขวาดาวน์โหลดได้เลย\n",
        "\n",
        "ลองเล่นดูนะครับ ⭐️\n",
        "\n",
        "# 🧭 Table of Contents\n",
        "\n",
        "- **Clear All Variables**\n",
        "- **Import Library**\n",
        "- **Configure Coordinates and Files**\n",
        "- **Retrieve Data for the Past 90 Days**\n"
      ],
      "metadata": {
        "id": "QCEl2aLlK6c0"
      }
    },
    {
      "cell_type": "markdown",
      "source": [
        "# Clear All Variables"
      ],
      "metadata": {
        "id": "Sf0qro79jWsv"
      }
    },
    {
      "cell_type": "code",
      "source": [
        "# ลบตัวแปรทั้งหมดจาก environment, Runtime > Restart runtime, Cmd/Ctrl + M\n",
        "%reset -f"
      ],
      "metadata": {
        "id": "4eQ932VUCoMU"
      },
      "execution_count": 10,
      "outputs": []
    },
    {
      "cell_type": "markdown",
      "source": [
        "# Import Library"
      ],
      "metadata": {
        "id": "9Cre8CNFjGCv"
      }
    },
    {
      "cell_type": "code",
      "source": [
        "from requests import get       # ใช้เรียก API จากเว็บไซต์ (HTTP GET request)\n",
        "import pandas as pd            # จัดการ DataFrame, แปลง JSON เป็นตาราง\n",
        "from time import sleep         # หน่วงเวลา รอระหว่างรอบดึงข้อมูล\n",
        "import os                      # ตรวจสอบไฟล์ Excel ว่ามีอยู่แล้วหรือยัง\n",
        "from pytz import timezone      # ระบุ timezone (ถ้าต้องการ)\n"
      ],
      "metadata": {
        "id": "yzuAkE0KjJP3"
      },
      "execution_count": 11,
      "outputs": []
    },
    {
      "cell_type": "markdown",
      "source": [
        "# Configure Coordinates and Files"
      ],
      "metadata": {
        "id": "MkNKlrCyioYf"
      }
    },
    {
      "cell_type": "code",
      "source": [
        "# --------- ตั้งค่าพิกัดและไฟล์ ---------\n",
        "lat, lon = 13.7563, 100.5018             # พิกัดกรุงเทพฯ\n",
        "file_name = \"air_quality.xlsx\"           # ชื่อไฟล์ Excel สำหรับเก็บข้อมูลสะสม\n"
      ],
      "metadata": {
        "id": "-V7JR_MCjDgI"
      },
      "execution_count": 12,
      "outputs": []
    },
    {
      "cell_type": "markdown",
      "source": [
        "# Retrieve Data for the Past 90 Days"
      ],
      "metadata": {
        "id": "JQKGeE3wiotF"
      }
    },
    {
      "cell_type": "code",
      "source": [
        "# --------- ดึงย้อนหลัง 90 วัน ---------\n",
        "# สร้าง URL API พร้อมพารามิเตอร์\n",
        "url = (\n",
        "    \"https://air-quality-api.open-meteo.com/v1/air-quality\"\n",
        "    f\"?latitude={lat}&longitude={lon}\"\n",
        "    \"&hourly=pm10,pm2_5\"\n",
        "    \"&past_days=90\"\n",
        "    \"&timezone=Asia/Bangkok\"          # ให้ API ส่งเวลาเป็น local Bangkok\n",
        ")\n",
        "\n",
        "# เรียก API และแปลง JSON เป็น DataFrame\n",
        "api = get(url)\n",
        "api_json = api.json()\n",
        "df = pd.DataFrame(api_json[\"hourly\"])\n",
        "\n",
        "# แปลง df[\"time\"] เป็น tz-aware Bangkok (เพื่อเปรียบเทียบเวลาได้ถูกต้อง)\n",
        "df[\"time\"] = pd.to_datetime(df[\"time\"]).dt.tz_localize(\"Asia/Bangkok\")\n",
        "\n",
        "# เวลาปัจจุบันปัดชั่วโมงล่าสุด → tz-aware Bangkok\n",
        "cut_time = pd.Timestamp.now(tz=\"Asia/Bangkok\").floor(\"h\") - pd.Timedelta(hours=1)\n",
        "\n",
        "# ตัด forecast ออก → เหลือเฉพาะเวลาที่ยืนยันแล้ว\n",
        "df = df[df[\"time\"] <= cut_time]\n",
        "\n",
        "# ลบ timezone ก่อน export Excel เพราะ Excel ไม่รองรับ tz-aware\n",
        "df[\"time\"] = df[\"time\"].dt.tz_localize(None)\n",
        "\n",
        "# เขียนข้อมูลลง Excel\n",
        "df.to_excel(file_name, index=False)\n",
        "print(f\"สร้างไฟล์ใหม่พร้อมข้อมูลย้อนหลัง 90 วันจนถึง {cut_time} ✅ (เวลาย้อนหลัง 1 ชม.เทียบกับเวลา ณ ปัจจุบัน เพื่อการยืนยันข้อมูลที่ถูกต้อง)\")\n",
        "\n",
        "# อ่าน/แสดง ข้อมูลใน Excel\n",
        "df = pd.read_excel(file_name)\n",
        "print(df)\n"
      ],
      "metadata": {
        "colab": {
          "base_uri": "https://localhost:8080/"
        },
        "id": "T07U_SykjEQ4",
        "outputId": "7b41442f-9ebe-4d12-f473-81a532e5cfd3"
      },
      "execution_count": 16,
      "outputs": [
        {
          "output_type": "stream",
          "name": "stdout",
          "text": [
            "สร้างไฟล์ใหม่พร้อมข้อมูลย้อนหลัง 90 วันจนถึง 2025-09-07 02:00:00+07:00 ✅ (เวลาย้อนหลัง 1 ชม.เทียบกับเวลา ณ ปัจจุบัน เพื่อการยืนยันข้อมูลที่ถูกต้อง)\n",
            "                    time  pm10  pm2_5\n",
            "0    2025-06-09 00:00:00  12.9   12.6\n",
            "1    2025-06-09 01:00:00  10.0    9.8\n",
            "2    2025-06-09 02:00:00   8.6    8.4\n",
            "3    2025-06-09 03:00:00   8.6    8.4\n",
            "4    2025-06-09 04:00:00   8.4    8.1\n",
            "...                  ...   ...    ...\n",
            "2158 2025-09-06 22:00:00  18.0   15.7\n",
            "2159 2025-09-06 23:00:00  19.6   17.1\n",
            "2160 2025-09-07 00:00:00  20.3   17.6\n",
            "2161 2025-09-07 01:00:00  22.4   19.8\n",
            "2162 2025-09-07 02:00:00  23.2   20.9\n",
            "\n",
            "[2163 rows x 3 columns]\n"
          ]
        }
      ]
    }
  ]
}